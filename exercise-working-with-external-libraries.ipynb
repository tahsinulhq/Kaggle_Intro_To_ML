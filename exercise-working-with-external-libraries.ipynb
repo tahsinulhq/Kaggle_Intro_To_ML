{
 "cells": [
  {
   "cell_type": "markdown",
   "id": "billion-scheme",
   "metadata": {
    "papermill": {
     "duration": 0.018394,
     "end_time": "2021-04-16T17:54:27.993855",
     "exception": false,
     "start_time": "2021-04-16T17:54:27.975461",
     "status": "completed"
    },
    "tags": []
   },
   "source": [
    "**This notebook is an exercise in the [Python](https://www.kaggle.com/learn/python) course.  You can reference the tutorial at [this link](https://www.kaggle.com/colinmorris/working-with-external-libraries).**\n",
    "\n",
    "---\n"
   ]
  },
  {
   "cell_type": "markdown",
   "id": "german-design",
   "metadata": {
    "papermill": {
     "duration": 0.015145,
     "end_time": "2021-04-16T17:54:28.026121",
     "exception": false,
     "start_time": "2021-04-16T17:54:28.010976",
     "status": "completed"
    },
    "tags": []
   },
   "source": [
    "# Try It Yourself\n",
    "\n",
    "There are only three problems in this last set of exercises, but they're all pretty tricky, so be on guard! \n",
    "\n",
    "Run the setup code below before working on the questions."
   ]
  },
  {
   "cell_type": "code",
   "execution_count": 1,
   "id": "seasonal-battery",
   "metadata": {
    "execution": {
     "iopub.execute_input": "2021-04-16T17:54:28.064366Z",
     "iopub.status.busy": "2021-04-16T17:54:28.063690Z",
     "iopub.status.idle": "2021-04-16T17:54:28.128042Z",
     "shell.execute_reply": "2021-04-16T17:54:28.128977Z"
    },
    "papermill": {
     "duration": 0.08818,
     "end_time": "2021-04-16T17:54:28.129418",
     "exception": false,
     "start_time": "2021-04-16T17:54:28.041238",
     "status": "completed"
    },
    "tags": []
   },
   "outputs": [
    {
     "name": "stdout",
     "output_type": "stream",
     "text": [
      "Setup complete.\n"
     ]
    }
   ],
   "source": [
    "from learntools.core import binder; binder.bind(globals())\n",
    "from learntools.python.ex7 import *\n",
    "print('Setup complete.')"
   ]
  },
  {
   "cell_type": "markdown",
   "id": "expired-twist",
   "metadata": {
    "papermill": {
     "duration": 0.015324,
     "end_time": "2021-04-16T17:54:28.161830",
     "exception": false,
     "start_time": "2021-04-16T17:54:28.146506",
     "status": "completed"
    },
    "tags": []
   },
   "source": [
    "# Exercises"
   ]
  },
  {
   "cell_type": "markdown",
   "id": "assisted-europe",
   "metadata": {
    "papermill": {
     "duration": 0.015575,
     "end_time": "2021-04-16T17:54:28.192781",
     "exception": false,
     "start_time": "2021-04-16T17:54:28.177206",
     "status": "completed"
    },
    "tags": []
   },
   "source": [
    "## 1.\n",
    "\n",
    "After completing the exercises on lists and tuples, Jimmy noticed that, according to his `estimate_average_slot_payout` function, the slot machines at the Learn Python Casino are actually rigged *against* the house, and are profitable to play in the long run.\n",
    "\n",
    "Starting with $200 in his pocket, Jimmy has played the slots 500 times, recording his new balance in a list after each spin. He used Python's `matplotlib` library to make a graph of his balance over time:"
   ]
  },
  {
   "cell_type": "code",
   "execution_count": 2,
   "id": "successful-suite",
   "metadata": {
    "execution": {
     "iopub.execute_input": "2021-04-16T17:54:28.230188Z",
     "iopub.status.busy": "2021-04-16T17:54:28.229464Z",
     "iopub.status.idle": "2021-04-16T17:54:28.438964Z",
     "shell.execute_reply": "2021-04-16T17:54:28.438227Z"
    },
    "papermill": {
     "duration": 0.231216,
     "end_time": "2021-04-16T17:54:28.439120",
     "exception": false,
     "start_time": "2021-04-16T17:54:28.207904",
     "status": "completed"
    },
    "tags": []
   },
   "outputs": [
    {
     "data": {
      "text/plain": [
       "<AxesSubplot:>"
      ]
     },
     "execution_count": 2,
     "metadata": {},
     "output_type": "execute_result"
    },
    {
     "data": {
      "image/png": "[encoded data removed]",
      "text/plain": [
       "<Figure size 792x504 with 1 Axes>"
      ]
     },
     "metadata": {
      "needs_background": "light"
     },
     "output_type": "display_data"
    }
   ],
   "source": [
    "# Import the jimmy_slots submodule\n",
    "from learntools.python import jimmy_slots\n",
    "# Call the get_graph() function to get Jimmy's graph\n",
    "graph = jimmy_slots.get_graph()\n",
    "graph"
   ]
  },
  {
   "cell_type": "markdown",
   "id": "agricultural-anxiety",
   "metadata": {
    "papermill": {
     "duration": 0.016996,
     "end_time": "2021-04-16T17:54:28.474478",
     "exception": false,
     "start_time": "2021-04-16T17:54:28.457482",
     "status": "completed"
    },
    "tags": []
   },
   "source": [
    "As you can see, he's hit a bit of bad luck recently. He wants to tweet this along with some choice emojis, but, as it looks right now, his followers will probably find it confusing. He's asked if you can help him make the following changes:\n",
    "\n",
    "1. Add the title \"Results of 500 slot machine pulls\"\n",
    "2. Make the y-axis start at 0. \n",
    "3. Add the label \"Balance\" to the y-axis\n",
    "\n",
    "After calling `type(graph)` you see that Jimmy's graph is of type `matplotlib.axes._subplots.AxesSubplot`. Hm, that's a new one. By calling `dir(graph)`, you find three methods that seem like they'll be useful: `.set_title()`, `.set_ylim()`, and `.set_ylabel()`. \n",
    "\n",
    "Use these methods to complete the function `prettify_graph` according to Jimmy's requests. We've already checked off the first request for you (setting a title).\n",
    "\n",
    "(Remember: if you don't know what these methods do, use the `help()` function!)"
   ]
  },
  {
   "cell_type": "code",
   "execution_count": 3,
   "id": "conscious-providence",
   "metadata": {
    "execution": {
     "iopub.execute_input": "2021-04-16T17:54:28.541354Z",
     "iopub.status.busy": "2021-04-16T17:54:28.523065Z",
     "iopub.status.idle": "2021-04-16T17:54:28.706798Z",
     "shell.execute_reply": "2021-04-16T17:54:28.705742Z"
    },
    "papermill": {
     "duration": 0.215441,
     "end_time": "2021-04-16T17:54:28.707041",
     "exception": false,
     "start_time": "2021-04-16T17:54:28.491600",
     "status": "completed"
    },
    "tags": []
   },
   "outputs": [
    {
     "name": "stderr",
     "output_type": "stream",
     "text": [
      "/opt/conda/lib/python3.7/site-packages/ipykernel_launcher.py:19: UserWarning: FixedFormatter should only be used together with FixedLocator\n"
     ]
    },
    {
     "data": {
      "text/plain": [
       "[Text(0, 0.0, '$0'),\n",
       " Text(0, 50.0, '$50'),\n",
       " Text(0, 100.0, '$100'),\n",
       " Text(0, 150.0, '$150'),\n",
       " Text(0, 200.0, '$200'),\n",
       " Text(0, 250.0, '$250'),\n",
       " Text(0, 300.0, '$300'),\n",
       " Text(0, 350.0, '$350')]"
      ]
     },
     "execution_count": 3,
     "metadata": {},
     "output_type": "execute_result"
    },
    {
     "data": {
      "image/png": "[encoded data removed]",
      "text/plain": [
       "<Figure size 792x504 with 1 Axes>"
      ]
     },
     "metadata": {
      "needs_background": "light"
     },
     "output_type": "display_data"
    }
   ],
   "source": [
    "def prettify_graph(graph):\n",
    "    \"\"\"Modify the given graph according to Jimmy's requests: add a title, make the y-axis\n",
    "    start at 0, label the y-axis. (And, if you're feeling ambitious, format the tick marks\n",
    "    as dollar amounts using the \"$\" symbol.)\n",
    "    \"\"\"\n",
    "    graph.set_title(\"Results of 500 slot machine pulls\")\n",
    "    graph.set_ylim(0,350)\n",
    "    graph.set_ylabel(\"Balance\")\n",
    "    # Complete steps 2 and 3 here\n",
    "\n",
    "graph = jimmy_slots.get_graph()\n",
    "prettify_graph(graph)\n",
    "graph\n",
    "\n",
    "ticks = graph.get_yticks()\n",
    "    # Format those values into strings beginning with dollar sign\n",
    "new_labels = ['${}'.format(int(amt)) for amt in ticks]\n",
    "    # Set the new labels\n",
    "graph.set_yticklabels(new_labels)\n",
    "#q1.check()"
   ]
  },
  {
   "cell_type": "markdown",
   "id": "introductory-outline",
   "metadata": {
    "papermill": {
     "duration": 0.021501,
     "end_time": "2021-04-16T17:54:28.758005",
     "exception": false,
     "start_time": "2021-04-16T17:54:28.736504",
     "status": "completed"
    },
    "tags": []
   },
   "source": [
    "**Bonus:** Can you format the numbers on the y-axis so they look like dollar amounts? e.g. $200 instead of just 200.\n",
    "\n",
    "(We're not going to tell you what method(s) to use here. You'll need to go digging yourself with `dir(graph)` and/or `help(graph)`.)"
   ]
  },
  {
   "cell_type": "code",
   "execution_count": 4,
   "id": "satisfactory-example",
   "metadata": {
    "execution": {
     "iopub.execute_input": "2021-04-16T17:54:28.819714Z",
     "iopub.status.busy": "2021-04-16T17:54:28.818565Z",
     "iopub.status.idle": "2021-04-16T17:54:28.830456Z",
     "shell.execute_reply": "2021-04-16T17:54:28.829415Z"
    },
    "papermill": {
     "duration": 0.043456,
     "end_time": "2021-04-16T17:54:28.830628",
     "exception": false,
     "start_time": "2021-04-16T17:54:28.787172",
     "status": "completed"
    },
    "tags": []
   },
   "outputs": [
    {
     "data": {
      "application/javascript": [
       "parent.postMessage({\"jupyterEvent\": \"custom.exercise_interaction\", \"data\": {\"interactionType\": 3, \"questionType\": 4, \"questionId\": \"1_JimmySlots\", \"learnToolsVersion\": \"0.3.4\", \"valueTowardsCompletion\": 0.0, \"failureMessage\": \"\", \"exceptionClass\": \"\", \"trace\": \"\", \"outcomeType\": 4}}, \"*\")"
      ],
      "text/plain": [
       "<IPython.core.display.Javascript object>"
      ]
     },
     "metadata": {},
     "output_type": "display_data"
    },
    {
     "data": {
      "text/markdown": [
       "<span style=\"color:#33cc99\">Solution:</span> \n",
       "```python\n",
       "def prettify_graph(graph):\n",
       "    graph.set_title(\"Results of 500 slot machine pulls\")\n",
       "    # Make the y-axis begin at 0\n",
       "    graph.set_ylim(bottom=0)\n",
       "    # Label the y-axis\n",
       "    graph.set_ylabel(\"Balance\")\n",
       "    # Bonus: format the numbers on the y-axis as dollar amounts\n",
       "    # An array of the values displayed on the y-axis (150, 175, 200, etc.)\n",
       "    ticks = graph.get_yticks()\n",
       "    # Format those values into strings beginning with dollar sign\n",
       "    new_labels = ['${}'.format(int(amt)) for amt in ticks]\n",
       "    # Set the new labels\n",
       "    graph.set_yticklabels(new_labels)\n",
       "```"
      ],
      "text/plain": [
       "Solution: \n",
       "```python\n",
       "def prettify_graph(graph):\n",
       "    graph.set_title(\"Results of 500 slot machine pulls\")\n",
       "    # Make the y-axis begin at 0\n",
       "    graph.set_ylim(bottom=0)\n",
       "    # Label the y-axis\n",
       "    graph.set_ylabel(\"Balance\")\n",
       "    # Bonus: format the numbers on the y-axis as dollar amounts\n",
       "    # An array of the values displayed on the y-axis (150, 175, 200, etc.)\n",
       "    ticks = graph.get_yticks()\n",
       "    # Format those values into strings beginning with dollar sign\n",
       "    new_labels = ['${}'.format(int(amt)) for amt in ticks]\n",
       "    # Set the new labels\n",
       "    graph.set_yticklabels(new_labels)\n",
       "```"
      ]
     },
     "metadata": {},
     "output_type": "display_data"
    }
   ],
   "source": [
    "# Check your answer (Run this code cell to receive credit!)\n",
    "q1.solution()"
   ]
  },
  {
   "cell_type": "markdown",
   "id": "acting-white",
   "metadata": {
    "papermill": {
     "duration": 0.021057,
     "end_time": "2021-04-16T17:54:28.872148",
     "exception": false,
     "start_time": "2021-04-16T17:54:28.851091",
     "status": "completed"
    },
    "tags": []
   },
   "source": [
    "## 2. <span title=\"Spicy\" style=\"color: coral\">🌶️🌶️</span>\n",
    "\n",
    "This is a very hard problem. Feel free to skip it if you are short on time:\n",
    "\n",
    "Luigi is trying to perform an analysis to determine the best items for winning races on the Mario Kart circuit. He has some data in the form of lists of dictionaries that look like...\n",
    "\n",
    "    [\n",
    "        {'name': 'Peach', 'items': ['green shell', 'banana', 'green shell',], 'finish': 3},\n",
    "        {'name': 'Bowser', 'items': ['green shell',], 'finish': 1},\n",
    "        # Sometimes the racer's name wasn't recorded\n",
    "        {'name': None, 'items': ['mushroom',], 'finish': 2},\n",
    "        {'name': 'Toad', 'items': ['green shell', 'mushroom'], 'finish': 1},\n",
    "    ]\n",
    "\n",
    "`'items'` is a list of all the power-up items the racer picked up in that race, and `'finish'` was their placement in the race (1 for first place, 3 for third, etc.).\n",
    "\n",
    "He wrote the function below to take a list like this and return a dictionary mapping each item to how many times it was picked up by first-place finishers."
   ]
  },
  {
   "cell_type": "code",
   "execution_count": 5,
   "id": "convenient-steam",
   "metadata": {
    "execution": {
     "iopub.execute_input": "2021-04-16T17:54:28.921780Z",
     "iopub.status.busy": "2021-04-16T17:54:28.920645Z",
     "iopub.status.idle": "2021-04-16T17:54:28.923330Z",
     "shell.execute_reply": "2021-04-16T17:54:28.923813Z"
    },
    "papermill": {
     "duration": 0.03135,
     "end_time": "2021-04-16T17:54:28.923992",
     "exception": false,
     "start_time": "2021-04-16T17:54:28.892642",
     "status": "completed"
    },
    "tags": []
   },
   "outputs": [],
   "source": [
    "def best_items(racers):\n",
    "    \"\"\"Given a list of racer dictionaries, return a dictionary mapping items to the number\n",
    "    of times those items were picked up by racers who finished in first place.\n",
    "    \"\"\"\n",
    "    winner_item_counts = {}\n",
    "    for i in range(len(racers)):\n",
    "        # The i'th racer dictionary\n",
    "        racer = racers[i]\n",
    "        # We're only interested in racers who finished in first\n",
    "        if racer['finish'] == 1:\n",
    "            for i in racer['items']:\n",
    "                # Add one to the count for this item (adding it to the dict if necessary)\n",
    "                if i not in winner_item_counts:\n",
    "                    winner_item_counts[i] = 0\n",
    "                winner_item_counts[i] += 1\n",
    "\n",
    "        # Data quality issues :/ Print a warning about racers with no name set. We'll take care of it later.\n",
    "        if racer['name'] is None:\n",
    "            print(\"WARNING: Encountered racer with unknown name on iteration {}/{} (racer = {})\".format(\n",
    "                i+1, len(racers), racer['name'])\n",
    "                 )\n",
    "    return winner_item_counts"
   ]
  },
  {
   "cell_type": "markdown",
   "id": "superb-caution",
   "metadata": {
    "papermill": {
     "duration": 0.01974,
     "end_time": "2021-04-16T17:54:28.963790",
     "exception": false,
     "start_time": "2021-04-16T17:54:28.944050",
     "status": "completed"
    },
    "tags": []
   },
   "source": [
    "He tried it on a small example list above and it seemed to work correctly:"
   ]
  },
  {
   "cell_type": "code",
   "execution_count": 6,
   "id": "funny-strain",
   "metadata": {
    "execution": {
     "iopub.execute_input": "2021-04-16T17:54:29.011513Z",
     "iopub.status.busy": "2021-04-16T17:54:29.010441Z",
     "iopub.status.idle": "2021-04-16T17:54:29.022933Z",
     "shell.execute_reply": "2021-04-16T17:54:29.023482Z"
    },
    "papermill": {
     "duration": 0.038364,
     "end_time": "2021-04-16T17:54:29.023683",
     "exception": false,
     "start_time": "2021-04-16T17:54:28.985319",
     "status": "completed"
    },
    "tags": []
   },
   "outputs": [
    {
     "name": "stdout",
     "output_type": "stream",
     "text": [
      "WARNING: Encountered racer with unknown name on iteration 3/4 (racer = None)\n"
     ]
    },
    {
     "data": {
      "text/plain": [
       "{'green shell': 2, 'mushroom': 1}"
      ]
     },
     "execution_count": 6,
     "metadata": {},
     "output_type": "execute_result"
    }
   ],
   "source": [
    "sample = [\n",
    "    {'name': 'Peach', 'items': ['green shell', 'banana', 'green shell',], 'finish': 3},\n",
    "    {'name': 'Bowser', 'items': ['green shell',], 'finish': 1},\n",
    "    {'name': None, 'items': ['mushroom',], 'finish': 2},\n",
    "    {'name': 'Toad', 'items': ['green shell', 'mushroom'], 'finish': 1},\n",
    "]\n",
    "best_items(sample)"
   ]
  },
  {
   "cell_type": "markdown",
   "id": "prostate-custody",
   "metadata": {
    "papermill": {
     "duration": 0.022994,
     "end_time": "2021-04-16T17:54:29.068756",
     "exception": false,
     "start_time": "2021-04-16T17:54:29.045762",
     "status": "completed"
    },
    "tags": []
   },
   "source": [
    "However, when he tried running it on his full dataset, the program crashed with a `TypeError`.\n",
    "\n",
    "Can you guess why? Try running the code cell below to see the error message Luigi is getting. Once you've identified the bug, fix it in the cell below (so that it runs without any errors).\n",
    "\n",
    "Hint: Luigi's bug is similar to one we encountered in the [tutorial](https://www.kaggle.com/colinmorris/working-with-external-libraries) when we talked about star imports."
   ]
  },
  {
   "cell_type": "code",
   "execution_count": 7,
   "id": "dirty-intensity",
   "metadata": {
    "execution": {
     "iopub.execute_input": "2021-04-16T17:54:29.125009Z",
     "iopub.status.busy": "2021-04-16T17:54:29.124087Z",
     "iopub.status.idle": "2021-04-16T17:54:29.134993Z",
     "shell.execute_reply": "2021-04-16T17:54:29.134310Z"
    },
    "papermill": {
     "duration": 0.041786,
     "end_time": "2021-04-16T17:54:29.135153",
     "exception": false,
     "start_time": "2021-04-16T17:54:29.093367",
     "status": "completed"
    },
    "tags": [
     "raises-exception"
    ]
   },
   "outputs": [
    {
     "name": "stdout",
     "output_type": "stream",
     "text": [
      "WARNING: Encountered racer with unknown name on iteration 4/8 (racer = None)\n",
      "WARNING: Encountered racer with unknown name on iteration 6/8 (racer = None)\n"
     ]
    },
    {
     "data": {
      "text/plain": [
       "{'green shell': 4, 'banana': 1, 'red shell': 1, 'blue shell': 1, 'star': 1}"
      ]
     },
     "execution_count": 7,
     "metadata": {},
     "output_type": "execute_result"
    }
   ],
   "source": [
    "# Import luigi's full dataset of race data\n",
    "from learntools.python.luigi_analysis import full_dataset\n",
    "\n",
    "# Fix me!\n",
    "def best_items(racers):\n",
    "    winner_item_counts = {}\n",
    "    for i in range(len(racers)):\n",
    "        # The i'th racer dictionary\n",
    "        racer = racers[i]\n",
    "        # We're only interested in racers who finished in first\n",
    "        if racer['finish'] == 1:\n",
    "            for item in racer['items']:\n",
    "                # Add one to the count for this item (adding it to the dict if necessary)\n",
    "                if item not in winner_item_counts:\n",
    "                    winner_item_counts[item] = 0\n",
    "                winner_item_counts[item] += 1\n",
    "\n",
    "        # Data quality issues :/ Print a warning about racers with no name set. We'll take care of it later.\n",
    "        if racer['name'] is None:\n",
    "            print(\"WARNING: Encountered racer with unknown name on iteration {}/{} (racer = {})\".format(\n",
    "                i+1, len(racers), racer['name'])\n",
    "                 )\n",
    "    return winner_item_counts\n",
    "\n",
    "# Try analyzing the imported full dataset\n",
    "best_items(full_dataset)"
   ]
  },
  {
   "cell_type": "code",
   "execution_count": 8,
   "id": "swedish-surprise",
   "metadata": {
    "execution": {
     "iopub.execute_input": "2021-04-16T17:54:29.187081Z",
     "iopub.status.busy": "2021-04-16T17:54:29.186333Z",
     "iopub.status.idle": "2021-04-16T17:54:29.194455Z",
     "shell.execute_reply": "2021-04-16T17:54:29.193879Z"
    },
    "papermill": {
     "duration": 0.036832,
     "end_time": "2021-04-16T17:54:29.194621",
     "exception": false,
     "start_time": "2021-04-16T17:54:29.157789",
     "status": "completed"
    },
    "tags": []
   },
   "outputs": [
    {
     "data": {
      "application/javascript": [
       "parent.postMessage({\"jupyterEvent\": \"custom.exercise_interaction\", \"data\": {\"interactionType\": 2, \"questionType\": 4, \"questionId\": \"2_LuigiAnalysis\", \"learnToolsVersion\": \"0.3.4\", \"valueTowardsCompletion\": 0.0, \"failureMessage\": \"\", \"exceptionClass\": \"\", \"trace\": \"\", \"outcomeType\": 4}}, \"*\")"
      ],
      "text/plain": [
       "<IPython.core.display.Javascript object>"
      ]
     },
     "metadata": {},
     "output_type": "display_data"
    },
    {
     "data": {
      "text/markdown": [
       "<span style=\"color:#3366cc\">Hint:</span> A couple things to consider:\n",
       "\n",
       "- What is the type of variable `i`?\n",
       "- What happens if you inspect the `full_dataset` list you imported? (Don't worry, it's not actually that big.) Can you find the racer that's causing the error?"
      ],
      "text/plain": [
       "Hint: A couple things to consider:\n",
       "\n",
       "- What is the type of variable `i`?\n",
       "- What happens if you inspect the `full_dataset` list you imported? (Don't worry, it's not actually that big.) Can you find the racer that's causing the error?"
      ]
     },
     "metadata": {},
     "output_type": "display_data"
    }
   ],
   "source": [
    "q2.hint()"
   ]
  },
  {
   "cell_type": "code",
   "execution_count": 9,
   "id": "respiratory-bones",
   "metadata": {
    "execution": {
     "iopub.execute_input": "2021-04-16T17:54:29.248479Z",
     "iopub.status.busy": "2021-04-16T17:54:29.247532Z",
     "iopub.status.idle": "2021-04-16T17:54:29.253015Z",
     "shell.execute_reply": "2021-04-16T17:54:29.252314Z"
    },
    "papermill": {
     "duration": 0.034926,
     "end_time": "2021-04-16T17:54:29.253167",
     "exception": false,
     "start_time": "2021-04-16T17:54:29.218241",
     "status": "completed"
    },
    "tags": []
   },
   "outputs": [
    {
     "data": {
      "application/javascript": [
       "parent.postMessage({\"jupyterEvent\": \"custom.exercise_interaction\", \"data\": {\"interactionType\": 3, \"questionType\": 4, \"questionId\": \"2_LuigiAnalysis\", \"learnToolsVersion\": \"0.3.4\", \"valueTowardsCompletion\": 0.0, \"failureMessage\": \"\", \"exceptionClass\": \"\", \"trace\": \"\", \"outcomeType\": 4}}, \"*\")"
      ],
      "text/plain": [
       "<IPython.core.display.Javascript object>"
      ]
     },
     "metadata": {},
     "output_type": "display_data"
    },
    {
     "data": {
      "text/markdown": [
       "<span style=\"color:#33cc99\">Solution:</span> Luigi used the variable name `i` to represent each item in racer['items'].\n",
       "However, he also used `i` as the loop variable for the outer loop (`for i in range(len(racers))`).\n",
       "These i's are clobbering each other. This becomes a problem only if we encounter a racer\n",
       "with a finish of 1 and a name of `None`. If that happens, when we try to print the \"WARNING\" message,\n",
       "`i` refers to a string like \"green shell\", which python can't add to an integer, hence a `TypeError`.\n",
       "\n",
       "This is similar to the issue we saw when we imported * from `math` and `numpy`. They both contained variables called `log`, and the one we got when we tried to call it was the wrong one.\n",
       "\n",
       "We can fix this by using different loop variables for the inner and outer loops. `i` wasn't a very\n",
       "good variable name for the inner loop anyways. `for item in racer['items']` fixes the bug and is \n",
       "easier to read.\n",
       "\n",
       "Variable shadowing bugs like this don't come up super often, but when they do they can take an infuriating amount of time to diagnose!\n"
      ],
      "text/plain": [
       "Solution: Luigi used the variable name `i` to represent each item in racer['items'].\n",
       "However, he also used `i` as the loop variable for the outer loop (`for i in range(len(racers))`).\n",
       "These i's are clobbering each other. This becomes a problem only if we encounter a racer\n",
       "with a finish of 1 and a name of `None`. If that happens, when we try to print the \"WARNING\" message,\n",
       "`i` refers to a string like \"green shell\", which python can't add to an integer, hence a `TypeError`.\n",
       "\n",
       "This is similar to the issue we saw when we imported * from `math` and `numpy`. They both contained variables called `log`, and the one we got when we tried to call it was the wrong one.\n",
       "\n",
       "We can fix this by using different loop variables for the inner and outer loops. `i` wasn't a very\n",
       "good variable name for the inner loop anyways. `for item in racer['items']` fixes the bug and is \n",
       "easier to read.\n",
       "\n",
       "Variable shadowing bugs like this don't come up super often, but when they do they can take an infuriating amount of time to diagnose!"
      ]
     },
     "metadata": {},
     "output_type": "display_data"
    }
   ],
   "source": [
    "# Check your answer (Run this code cell to receive credit!)\n",
    "q2.solution()"
   ]
  },
  {
   "cell_type": "markdown",
   "id": "mexican-williams",
   "metadata": {
    "papermill": {
     "duration": 0.023607,
     "end_time": "2021-04-16T17:54:29.302315",
     "exception": false,
     "start_time": "2021-04-16T17:54:29.278708",
     "status": "completed"
    },
    "tags": []
   },
   "source": [
    "## 3. <span title=\"A bit spicy\" style=\"color: darkgreen \">🌶️</span>\n",
    "\n",
    "Suppose we wanted to create a new type to represent hands in blackjack. One thing we might want to do with this type is overload the comparison operators like `>` and `<=` so that we could use them to check whether one hand beats another. e.g. it'd be cool if we could do this:\n",
    "\n",
    "```python\n",
    ">>> hand1 = BlackjackHand(['K', 'A'])\n",
    ">>> hand2 = BlackjackHand(['7', '10', 'A'])\n",
    ">>> hand1 > hand2\n",
    "True\n",
    "```\n",
    "\n",
    "Well, we're not going to do all that in this question (defining custom classes is a bit beyond the scope of these lessons), but the code we're asking you to write in the function below is very similar to what we'd have to write if we were defining our own `BlackjackHand` class. (We'd put it in the `__gt__` magic method to define our custom behaviour for `>`.)\n",
    "\n",
    "Fill in the body of the `blackjack_hand_greater_than` function according to the docstring."
   ]
  },
  {
   "cell_type": "code",
   "execution_count": 10,
   "id": "dirty-population",
   "metadata": {
    "execution": {
     "iopub.execute_input": "2021-04-16T17:54:29.362599Z",
     "iopub.status.busy": "2021-04-16T17:54:29.361796Z",
     "iopub.status.idle": "2021-04-16T17:54:29.368377Z",
     "shell.execute_reply": "2021-04-16T17:54:29.367689Z"
    },
    "papermill": {
     "duration": 0.040824,
     "end_time": "2021-04-16T17:54:29.368582",
     "exception": false,
     "start_time": "2021-04-16T17:54:29.327758",
     "status": "completed"
    },
    "tags": []
   },
   "outputs": [
    {
     "data": {
      "application/javascript": [
       "parent.postMessage({\"jupyterEvent\": \"custom.exercise_interaction\", \"data\": {\"outcomeType\": 4, \"interactionType\": 1, \"questionType\": 2, \"questionId\": \"3_BlackjackCmp\", \"learnToolsVersion\": \"0.3.4\", \"valueTowardsCompletion\": 0.0, \"failureMessage\": \"\", \"exceptionClass\": \"\", \"trace\": \"\"}}, \"*\")"
      ],
      "text/plain": [
       "<IPython.core.display.Javascript object>"
      ]
     },
     "metadata": {},
     "output_type": "display_data"
    },
    {
     "data": {
      "text/markdown": [
       "<span style=\"color:#ccaa33\">Check:</span> When you've updated the starter code, `check()` will tell you whether your code is correct. "
      ],
      "text/plain": [
       "Check: When you've updated the starter code, `check()` will tell you whether your code is correct. "
      ]
     },
     "metadata": {},
     "output_type": "display_data"
    }
   ],
   "source": [
    "def blackjack_hand_greater_than(hand_1, hand_2):\n",
    "    \"\"\"\n",
    "    Return True if hand_1 beats hand_2, and False otherwise.\n",
    "    \n",
    "    In order for hand_1 to beat hand_2 the following must be true:\n",
    "    - The total of hand_1 must not exceed 21\n",
    "    - The total of hand_1 must exceed the total of hand_2 OR hand_2's total must exceed 21\n",
    "    \n",
    "    Hands are represented as a list of cards. Each card is represented by a string.\n",
    "    \n",
    "    When adding up a hand's total, cards with numbers count for that many points. Face\n",
    "    cards ('J', 'Q', and 'K') are worth 10 points. 'A' can count for 1 or 11.\n",
    "    \n",
    "    When determining a hand's total, you should try to count aces in the way that \n",
    "    maximizes the hand's total without going over 21. e.g. the total of ['A', 'A', '9'] is 21,\n",
    "    the total of ['A', 'A', '9', '3'] is 14.\n",
    "    \n",
    "    Examples:\n",
    "    >>> blackjack_hand_greater_than(['K'], ['3', '4'])\n",
    "    True\n",
    "    >>> blackjack_hand_greater_than(['K'], ['10'])\n",
    "    False\n",
    "    >>> blackjack_hand_greater_than(['K', 'K', '2'], ['3'])\n",
    "    False\n",
    "    \"\"\"\n",
    "    pass\n",
    "\n",
    "# Check your answer\n",
    "q3.check()"
   ]
  },
  {
   "cell_type": "code",
   "execution_count": 11,
   "id": "necessary-compound",
   "metadata": {
    "execution": {
     "iopub.execute_input": "2021-04-16T17:54:29.426764Z",
     "iopub.status.busy": "2021-04-16T17:54:29.425829Z",
     "iopub.status.idle": "2021-04-16T17:54:29.429621Z",
     "shell.execute_reply": "2021-04-16T17:54:29.430119Z"
    },
    "papermill": {
     "duration": 0.034461,
     "end_time": "2021-04-16T17:54:29.430316",
     "exception": false,
     "start_time": "2021-04-16T17:54:29.395855",
     "status": "completed"
    },
    "tags": []
   },
   "outputs": [],
   "source": [
    "#q3.hint()\n",
    "#q3.solution()"
   ]
  },
  {
   "cell_type": "markdown",
   "id": "metropolitan-format",
   "metadata": {
    "papermill": {
     "duration": 0.026829,
     "end_time": "2021-04-16T17:54:29.485053",
     "exception": false,
     "start_time": "2021-04-16T17:54:29.458224",
     "status": "completed"
    },
    "tags": []
   },
   "source": [
    "## The end\n",
    "\n",
    "You've finished the Python course. Congrats!\n",
    "\n",
    "As always, if you have any questions about these exercises, or anything else you encountered in the course, come to the [Learn Forum](https://kaggle.com/learn-forum).\n",
    "\n",
    "You probably didn't put in all these hours of learning Python just to play silly games of chance, right? If you're interested in applying your newfound Python skills to some data science tasks, check out some of our other **[Kaggle Courses](https://www.kaggle.com/learn/overview)**. Some good next steps are:\n",
    "\n",
    "1. [Machine learning with scikit-learn](https://www.kaggle.com/learn/intro-to-machine-learning)\n",
    "2. [Pandas for data manipulation](https://www.kaggle.com/learn/pandas)\n",
    "3. [Deep learning with TensorFlow](https://www.kaggle.com/learn/deep-learning)\n",
    "\n",
    "Happy Pythoning!\n"
   ]
  },
  {
   "cell_type": "markdown",
   "id": "valuable-belize",
   "metadata": {
    "papermill": {
     "duration": 0.027661,
     "end_time": "2021-04-16T17:54:29.540180",
     "exception": false,
     "start_time": "2021-04-16T17:54:29.512519",
     "status": "completed"
    },
    "tags": []
   },
   "source": [
    "---\n",
    "\n",
    "\n",
    "\n",
    "\n",
    "*Have questions or comments? Visit the [Learn Discussion forum](https://www.kaggle.com/learn-forum/161283) to chat with other Learners.*"
   ]
  }
 ],
 "metadata": {
  "kernelspec": {
   "display_name": "Python 3",
   "language": "python",
   "name": "python3"
  },
  "language_info": {
   "codemirror_mode": {
    "name": "ipython",
    "version": 3
   },
   "file_extension": ".py",
   "mimetype": "text/x-python",
   "name": "python",
   "nbconvert_exporter": "python",
   "pygments_lexer": "ipython3",
   "version": "3.7.9"
  },
  "papermill": {
   "default_parameters": {},
   "duration": 10.513004,
   "end_time": "2021-04-16T17:54:30.178361",
   "environment_variables": {},
   "exception": null,
   "input_path": "__notebook__.ipynb",
   "output_path": "__notebook__.ipynb",
   "parameters": {},
   "start_time": "2021-04-16T17:54:19.665357",
   "version": "2.3.2"
  }
 },
 "nbformat": 4,
 "nbformat_minor": 5
}
