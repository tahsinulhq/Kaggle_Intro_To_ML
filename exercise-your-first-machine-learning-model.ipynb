{
 "cells": [
  {
   "cell_type": "markdown",
   "id": "pacific-bouquet",
   "metadata": {
    "papermill": {
     "duration": 0.015362,
     "end_time": "2021-04-19T17:21:36.245868",
     "exception": false,
     "start_time": "2021-04-19T17:21:36.230506",
     "status": "completed"
    },
    "tags": []
   },
   "source": [
    "**This notebook is an exercise in the [Introduction to Machine Learning](https://www.kaggle.com/learn/intro-to-machine-learning) course.  You can reference the tutorial at [this link](https://www.kaggle.com/dansbecker/your-first-machine-learning-model).**\n",
    "\n",
    "---\n"
   ]
  },
  {
   "cell_type": "markdown",
   "id": "vital-challenge",
   "metadata": {
    "papermill": {
     "duration": 0.014403,
     "end_time": "2021-04-19T17:21:36.275166",
     "exception": false,
     "start_time": "2021-04-19T17:21:36.260763",
     "status": "completed"
    },
    "tags": []
   },
   "source": [
    "## Recap\n",
    "So far, you have loaded your data and reviewed it with the following code. Run this cell to set up your coding environment where the previous step left off."
   ]
  },
  {
   "cell_type": "code",
   "execution_count": 1,
   "id": "solar-indonesian",
   "metadata": {
    "execution": {
     "iopub.execute_input": "2021-04-19T17:21:36.314019Z",
     "iopub.status.busy": "2021-04-19T17:21:36.312984Z",
     "iopub.status.idle": "2021-04-19T17:21:37.968643Z",
     "shell.execute_reply": "2021-04-19T17:21:37.967908Z"
    },
    "papermill": {
     "duration": 1.67873,
     "end_time": "2021-04-19T17:21:37.968884",
     "exception": false,
     "start_time": "2021-04-19T17:21:36.290154",
     "status": "completed"
    },
    "tags": []
   },
   "outputs": [
    {
     "name": "stdout",
     "output_type": "stream",
     "text": [
      "Setup Complete\n"
     ]
    }
   ],
   "source": [
    "# Code you have previously used to load data\n",
    "import pandas as pd\n",
    "\n",
    "# Path of the file to read\n",
    "iowa_file_path = '../input/home-data-for-ml-course/train.csv'\n",
    "\n",
    "home_data = pd.read_csv(iowa_file_path)\n",
    "\n",
    "# Set up code checking\n",
    "from learntools.core import binder\n",
    "binder.bind(globals())\n",
    "from learntools.machine_learning.ex3 import *\n",
    "\n",
    "print(\"Setup Complete\")"
   ]
  },
  {
   "cell_type": "markdown",
   "id": "isolated-moment",
   "metadata": {
    "papermill": {
     "duration": 0.015012,
     "end_time": "2021-04-19T17:21:38.000278",
     "exception": false,
     "start_time": "2021-04-19T17:21:37.985266",
     "status": "completed"
    },
    "tags": []
   },
   "source": [
    "# Exercises\n",
    "\n",
    "## Step 1: Specify Prediction Target\n",
    "Select the target variable, which corresponds to the sales price. Save this to a new variable called `y`. You'll need to print a list of the columns to find the name of the column you need.\n"
   ]
  },
  {
   "cell_type": "code",
   "execution_count": 2,
   "id": "fitting-simulation",
   "metadata": {
    "execution": {
     "iopub.execute_input": "2021-04-19T17:21:38.037358Z",
     "iopub.status.busy": "2021-04-19T17:21:38.036570Z",
     "iopub.status.idle": "2021-04-19T17:21:38.041402Z",
     "shell.execute_reply": "2021-04-19T17:21:38.040617Z"
    },
    "papermill": {
     "duration": 0.025417,
     "end_time": "2021-04-19T17:21:38.041557",
     "exception": false,
     "start_time": "2021-04-19T17:21:38.016140",
     "status": "completed"
    },
    "tags": []
   },
   "outputs": [
    {
     "name": "stdout",
     "output_type": "stream",
     "text": [
      "Index(['Id', 'MSSubClass', 'MSZoning', 'LotFrontage', 'LotArea', 'Street',\n",
      "       'Alley', 'LotShape', 'LandContour', 'Utilities', 'LotConfig',\n",
      "       'LandSlope', 'Neighborhood', 'Condition1', 'Condition2', 'BldgType',\n",
      "       'HouseStyle', 'OverallQual', 'OverallCond', 'YearBuilt', 'YearRemodAdd',\n",
      "       'RoofStyle', 'RoofMatl', 'Exterior1st', 'Exterior2nd', 'MasVnrType',\n",
      "       'MasVnrArea', 'ExterQual', 'ExterCond', 'Foundation', 'BsmtQual',\n",
      "       'BsmtCond', 'BsmtExposure', 'BsmtFinType1', 'BsmtFinSF1',\n",
      "       'BsmtFinType2', 'BsmtFinSF2', 'BsmtUnfSF', 'TotalBsmtSF', 'Heating',\n",
      "       'HeatingQC', 'CentralAir', 'Electrical', '1stFlrSF', '2ndFlrSF',\n",
      "       'LowQualFinSF', 'GrLivArea', 'BsmtFullBath', 'BsmtHalfBath', 'FullBath',\n",
      "       'HalfBath', 'BedroomAbvGr', 'KitchenAbvGr', 'KitchenQual',\n",
      "       'TotRmsAbvGrd', 'Functional', 'Fireplaces', 'FireplaceQu', 'GarageType',\n",
      "       'GarageYrBlt', 'GarageFinish', 'GarageCars', 'GarageArea', 'GarageQual',\n",
      "       'GarageCond', 'PavedDrive', 'WoodDeckSF', 'OpenPorchSF',\n",
      "       'EnclosedPorch', '3SsnPorch', 'ScreenPorch', 'PoolArea', 'PoolQC',\n",
      "       'Fence', 'MiscFeature', 'MiscVal', 'MoSold', 'YrSold', 'SaleType',\n",
      "       'SaleCondition', 'SalePrice'],\n",
      "      dtype='object')\n"
     ]
    }
   ],
   "source": [
    "# print the list of columns in the dataset to find the name of the prediction target\n",
    "print(home_data.columns)\n"
   ]
  },
  {
   "cell_type": "code",
   "execution_count": 3,
   "id": "hydraulic-wings",
   "metadata": {
    "execution": {
     "iopub.execute_input": "2021-04-19T17:21:38.091447Z",
     "iopub.status.busy": "2021-04-19T17:21:38.090438Z",
     "iopub.status.idle": "2021-04-19T17:21:38.098100Z",
     "shell.execute_reply": "2021-04-19T17:21:38.097431Z"
    },
    "papermill": {
     "duration": 0.04051,
     "end_time": "2021-04-19T17:21:38.098255",
     "exception": false,
     "start_time": "2021-04-19T17:21:38.057745",
     "status": "completed"
    },
    "tags": []
   },
   "outputs": [
    {
     "data": {
      "application/javascript": [
       "parent.postMessage({\"jupyterEvent\": \"custom.exercise_interaction\", \"data\": {\"outcomeType\": 1, \"valueTowardsCompletion\": 0.25, \"interactionType\": 1, \"questionType\": 2, \"questionId\": \"1_SetTarget\", \"learnToolsVersion\": \"0.3.4\", \"failureMessage\": \"\", \"exceptionClass\": \"\", \"trace\": \"\"}}, \"*\")"
      ],
      "text/plain": [
       "<IPython.core.display.Javascript object>"
      ]
     },
     "metadata": {},
     "output_type": "display_data"
    },
    {
     "data": {
      "text/markdown": [
       "<span style=\"color:#33cc33\">Correct</span>"
      ],
      "text/plain": [
       "Correct"
      ]
     },
     "metadata": {},
     "output_type": "display_data"
    }
   ],
   "source": [
    "y = home_data['SalePrice']\n",
    "\n",
    "# Check your answer\n",
    "step_1.check()"
   ]
  },
  {
   "cell_type": "code",
   "execution_count": 4,
   "id": "honey-laser",
   "metadata": {
    "execution": {
     "iopub.execute_input": "2021-04-19T17:21:38.139486Z",
     "iopub.status.busy": "2021-04-19T17:21:38.138522Z",
     "iopub.status.idle": "2021-04-19T17:21:38.144727Z",
     "shell.execute_reply": "2021-04-19T17:21:38.144222Z"
    },
    "papermill": {
     "duration": 0.028664,
     "end_time": "2021-04-19T17:21:38.144953",
     "exception": false,
     "start_time": "2021-04-19T17:21:38.116289",
     "status": "completed"
    },
    "tags": []
   },
   "outputs": [
    {
     "data": {
      "application/javascript": [
       "parent.postMessage({\"jupyterEvent\": \"custom.exercise_interaction\", \"data\": {\"interactionType\": 2, \"questionType\": 2, \"questionId\": \"1_SetTarget\", \"learnToolsVersion\": \"0.3.4\", \"valueTowardsCompletion\": 0.0, \"failureMessage\": \"\", \"exceptionClass\": \"\", \"trace\": \"\", \"outcomeType\": 4}}, \"*\")"
      ],
      "text/plain": [
       "<IPython.core.display.Javascript object>"
      ]
     },
     "metadata": {},
     "output_type": "display_data"
    },
    {
     "data": {
      "text/markdown": [
       "<span style=\"color:#3366cc\">Hint:</span> Use `print(home_data.columns)`. The column you want is at the end of the list. Use the dot notation to pull out this column from the DataFrame"
      ],
      "text/plain": [
       "Hint: Use `print(home_data.columns)`. The column you want is at the end of the list. Use the dot notation to pull out this column from the DataFrame"
      ]
     },
     "metadata": {},
     "output_type": "display_data"
    }
   ],
   "source": [
    "# The lines below will show you a hint or the solution.\n",
    "step_1.hint() \n",
    "# step_1.solution()"
   ]
  },
  {
   "cell_type": "markdown",
   "id": "amateur-cleveland",
   "metadata": {
    "papermill": {
     "duration": 0.018784,
     "end_time": "2021-04-19T17:21:38.183182",
     "exception": false,
     "start_time": "2021-04-19T17:21:38.164398",
     "status": "completed"
    },
    "tags": []
   },
   "source": [
    "## Step 2: Create X\n",
    "Now you will create a DataFrame called `X` holding the predictive features.\n",
    "\n",
    "Since you want only some columns from the original data, you'll first create a list with the names of the columns you want in `X`.\n",
    "\n",
    "You'll use just the following columns in the list (you can copy and paste the whole list to save some typing, though you'll still need to add quotes):\n",
    "    * LotArea\n",
    "    * YearBuilt\n",
    "    * 1stFlrSF\n",
    "    * 2ndFlrSF\n",
    "    * FullBath\n",
    "    * BedroomAbvGr\n",
    "    * TotRmsAbvGrd\n",
    "\n",
    "After you've created that list of features, use it to create the DataFrame that you'll use to fit the model."
   ]
  },
  {
   "cell_type": "code",
   "execution_count": 5,
   "id": "alpine-basketball",
   "metadata": {
    "execution": {
     "iopub.execute_input": "2021-04-19T17:21:38.235314Z",
     "iopub.status.busy": "2021-04-19T17:21:38.234344Z",
     "iopub.status.idle": "2021-04-19T17:21:38.240399Z",
     "shell.execute_reply": "2021-04-19T17:21:38.239892Z"
    },
    "papermill": {
     "duration": 0.036032,
     "end_time": "2021-04-19T17:21:38.240544",
     "exception": false,
     "start_time": "2021-04-19T17:21:38.204512",
     "status": "completed"
    },
    "tags": []
   },
   "outputs": [
    {
     "data": {
      "application/javascript": [
       "parent.postMessage({\"jupyterEvent\": \"custom.exercise_interaction\", \"data\": {\"outcomeType\": 1, \"valueTowardsCompletion\": 0.25, \"interactionType\": 1, \"questionType\": 2, \"questionId\": \"2_SelectPredictionData\", \"learnToolsVersion\": \"0.3.4\", \"failureMessage\": \"\", \"exceptionClass\": \"\", \"trace\": \"\"}}, \"*\")"
      ],
      "text/plain": [
       "<IPython.core.display.Javascript object>"
      ]
     },
     "metadata": {},
     "output_type": "display_data"
    },
    {
     "data": {
      "text/markdown": [
       "<span style=\"color:#33cc33\">Correct</span>"
      ],
      "text/plain": [
       "Correct"
      ]
     },
     "metadata": {},
     "output_type": "display_data"
    }
   ],
   "source": [
    "# Create the list of features below\n",
    "feature_names = [ 'LotArea' , 'YearBuilt' , '1stFlrSF' , '2ndFlrSF' , 'FullBath' , 'BedroomAbvGr' , 'TotRmsAbvGrd']\n",
    "\n",
    "# Select data corresponding to features in feature_names\n",
    "X = home_data[feature_names]\n",
    "\n",
    "# Check your answer\n",
    "step_2.check()"
   ]
  },
  {
   "cell_type": "code",
   "execution_count": 6,
   "id": "sacred-drink",
   "metadata": {
    "collapsed": true,
    "execution": {
     "iopub.execute_input": "2021-04-19T17:21:38.283554Z",
     "iopub.status.busy": "2021-04-19T17:21:38.282557Z",
     "iopub.status.idle": "2021-04-19T17:21:38.286237Z",
     "shell.execute_reply": "2021-04-19T17:21:38.285339Z"
    },
    "jupyter": {
     "outputs_hidden": true
    },
    "papermill": {
     "duration": 0.027478,
     "end_time": "2021-04-19T17:21:38.286449",
     "exception": false,
     "start_time": "2021-04-19T17:21:38.258971",
     "status": "completed"
    },
    "tags": []
   },
   "outputs": [],
   "source": [
    "# step_2.hint()\n",
    "# step_2.solution()"
   ]
  },
  {
   "cell_type": "markdown",
   "id": "enclosed-pearl",
   "metadata": {
    "papermill": {
     "duration": 0.018222,
     "end_time": "2021-04-19T17:21:38.323457",
     "exception": false,
     "start_time": "2021-04-19T17:21:38.305235",
     "status": "completed"
    },
    "tags": []
   },
   "source": [
    "## Review Data\n",
    "Before building a model, take a quick look at **X** to verify it looks sensible"
   ]
  },
  {
   "cell_type": "code",
   "execution_count": 7,
   "id": "documented-screening",
   "metadata": {
    "execution": {
     "iopub.execute_input": "2021-04-19T17:21:38.370076Z",
     "iopub.status.busy": "2021-04-19T17:21:38.369346Z",
     "iopub.status.idle": "2021-04-19T17:21:38.398875Z",
     "shell.execute_reply": "2021-04-19T17:21:38.399485Z"
    },
    "papermill": {
     "duration": 0.057473,
     "end_time": "2021-04-19T17:21:38.399674",
     "exception": false,
     "start_time": "2021-04-19T17:21:38.342201",
     "status": "completed"
    },
    "tags": []
   },
   "outputs": [
    {
     "name": "stdout",
     "output_type": "stream",
     "text": [
      "             LotArea    YearBuilt     1stFlrSF     2ndFlrSF     FullBath  \\\n",
      "count    1460.000000  1460.000000  1460.000000  1460.000000  1460.000000   \n",
      "mean    10516.828082  1971.267808  1162.626712   346.992466     1.565068   \n",
      "std      9981.264932    30.202904   386.587738   436.528436     0.550916   \n",
      "min      1300.000000  1872.000000   334.000000     0.000000     0.000000   \n",
      "25%      7553.500000  1954.000000   882.000000     0.000000     1.000000   \n",
      "50%      9478.500000  1973.000000  1087.000000     0.000000     2.000000   \n",
      "75%     11601.500000  2000.000000  1391.250000   728.000000     2.000000   \n",
      "max    215245.000000  2010.000000  4692.000000  2065.000000     3.000000   \n",
      "\n",
      "       BedroomAbvGr  TotRmsAbvGrd  \n",
      "count   1460.000000   1460.000000  \n",
      "mean       2.866438      6.517808  \n",
      "std        0.815778      1.625393  \n",
      "min        0.000000      2.000000  \n",
      "25%        2.000000      5.000000  \n",
      "50%        3.000000      6.000000  \n",
      "75%        3.000000      7.000000  \n",
      "max        8.000000     14.000000  \n",
      "   LotArea  YearBuilt  1stFlrSF  2ndFlrSF  FullBath  BedroomAbvGr  \\\n",
      "0     8450       2003       856       854         2             3   \n",
      "1     9600       1976      1262         0         2             3   \n",
      "2    11250       2001       920       866         2             3   \n",
      "3     9550       1915       961       756         1             3   \n",
      "4    14260       2000      1145      1053         2             4   \n",
      "\n",
      "   TotRmsAbvGrd  \n",
      "0             8  \n",
      "1             6  \n",
      "2             6  \n",
      "3             7  \n",
      "4             9  \n"
     ]
    }
   ],
   "source": [
    "# Review data\n",
    "# print description or statistics from X\n",
    "print(X.describe())\n",
    "\n",
    "# print the top few lines\n",
    "print(X.head())"
   ]
  },
  {
   "cell_type": "markdown",
   "id": "political-skating",
   "metadata": {
    "papermill": {
     "duration": 0.018755,
     "end_time": "2021-04-19T17:21:38.437740",
     "exception": false,
     "start_time": "2021-04-19T17:21:38.418985",
     "status": "completed"
    },
    "tags": []
   },
   "source": [
    "## Step 3: Specify and Fit Model\n",
    "Create a `DecisionTreeRegressor` and save it iowa_model. Ensure you've done the relevant import from sklearn to run this command.\n",
    "\n",
    "Then fit the model you just created using the data in `X` and `y` that you saved above."
   ]
  },
  {
   "cell_type": "code",
   "execution_count": 8,
   "id": "roman-moisture",
   "metadata": {
    "execution": {
     "iopub.execute_input": "2021-04-19T17:21:38.485368Z",
     "iopub.status.busy": "2021-04-19T17:21:38.484546Z",
     "iopub.status.idle": "2021-04-19T17:21:38.498687Z",
     "shell.execute_reply": "2021-04-19T17:21:38.497839Z"
    },
    "papermill": {
     "duration": 0.042123,
     "end_time": "2021-04-19T17:21:38.498918",
     "exception": false,
     "start_time": "2021-04-19T17:21:38.456795",
     "status": "completed"
    },
    "tags": []
   },
   "outputs": [
    {
     "data": {
      "application/javascript": [
       "parent.postMessage({\"jupyterEvent\": \"custom.exercise_interaction\", \"data\": {\"outcomeType\": 1, \"valueTowardsCompletion\": 0.25, \"interactionType\": 1, \"questionType\": 2, \"questionId\": \"3_CreateModel\", \"learnToolsVersion\": \"0.3.4\", \"failureMessage\": \"\", \"exceptionClass\": \"\", \"trace\": \"\"}}, \"*\")"
      ],
      "text/plain": [
       "<IPython.core.display.Javascript object>"
      ]
     },
     "metadata": {},
     "output_type": "display_data"
    },
    {
     "data": {
      "text/markdown": [
       "<span style=\"color:#33cc33\">Correct</span>"
      ],
      "text/plain": [
       "Correct"
      ]
     },
     "metadata": {},
     "output_type": "display_data"
    }
   ],
   "source": [
    "# from _ import _\n",
    "from sklearn.tree import DecisionTreeRegressor\n",
    "#specify the model. \n",
    " \n",
    "#For model reproducibility, set a numeric value for random_state when specifying the model\n",
    "iowa_model = DecisionTreeRegressor(random_state = 1)\n",
    "\n",
    "# Fit the model\n",
    "iowa_model.fit(X,y)\n",
    "\n",
    "# Check your answer\n",
    "step_3.check()"
   ]
  },
  {
   "cell_type": "code",
   "execution_count": 9,
   "id": "anonymous-thanksgiving",
   "metadata": {
    "collapsed": true,
    "execution": {
     "iopub.execute_input": "2021-04-19T17:21:38.545271Z",
     "iopub.status.busy": "2021-04-19T17:21:38.544490Z",
     "iopub.status.idle": "2021-04-19T17:21:38.548747Z",
     "shell.execute_reply": "2021-04-19T17:21:38.548154Z"
    },
    "jupyter": {
     "outputs_hidden": true
    },
    "papermill": {
     "duration": 0.029278,
     "end_time": "2021-04-19T17:21:38.548924",
     "exception": false,
     "start_time": "2021-04-19T17:21:38.519646",
     "status": "completed"
    },
    "tags": []
   },
   "outputs": [],
   "source": [
    "# step_3.hint()\n",
    "# step_3.solution()"
   ]
  },
  {
   "cell_type": "markdown",
   "id": "latin-message",
   "metadata": {
    "papermill": {
     "duration": 0.020801,
     "end_time": "2021-04-19T17:21:38.590843",
     "exception": false,
     "start_time": "2021-04-19T17:21:38.570042",
     "status": "completed"
    },
    "tags": []
   },
   "source": [
    "## Step 4: Make Predictions\n",
    "Make predictions with the model's `predict` command using `X` as the data. Save the results to a variable called `predictions`."
   ]
  },
  {
   "cell_type": "code",
   "execution_count": 10,
   "id": "further-nancy",
   "metadata": {
    "execution": {
     "iopub.execute_input": "2021-04-19T17:21:38.642940Z",
     "iopub.status.busy": "2021-04-19T17:21:38.640077Z",
     "iopub.status.idle": "2021-04-19T17:21:38.652499Z",
     "shell.execute_reply": "2021-04-19T17:21:38.651903Z"
    },
    "papermill": {
     "duration": 0.039424,
     "end_time": "2021-04-19T17:21:38.652658",
     "exception": false,
     "start_time": "2021-04-19T17:21:38.613234",
     "status": "completed"
    },
    "tags": []
   },
   "outputs": [
    {
     "name": "stdout",
     "output_type": "stream",
     "text": [
      "[208500. 181500. 223500. ... 266500. 142125. 147500.]\n"
     ]
    },
    {
     "data": {
      "application/javascript": [
       "parent.postMessage({\"jupyterEvent\": \"custom.exercise_interaction\", \"data\": {\"outcomeType\": 1, \"valueTowardsCompletion\": 0.25, \"interactionType\": 1, \"questionType\": 2, \"questionId\": \"4_MakePredictions\", \"learnToolsVersion\": \"0.3.4\", \"failureMessage\": \"\", \"exceptionClass\": \"\", \"trace\": \"\"}}, \"*\")"
      ],
      "text/plain": [
       "<IPython.core.display.Javascript object>"
      ]
     },
     "metadata": {},
     "output_type": "display_data"
    },
    {
     "data": {
      "text/markdown": [
       "<span style=\"color:#33cc33\">Correct</span>"
      ],
      "text/plain": [
       "Correct"
      ]
     },
     "metadata": {},
     "output_type": "display_data"
    }
   ],
   "source": [
    "predictions = iowa_model.predict(X)\n",
    "print(predictions)\n",
    "\n",
    "# Check your answer\n",
    "step_4.check()"
   ]
  },
  {
   "cell_type": "code",
   "execution_count": 11,
   "id": "academic-civilization",
   "metadata": {
    "collapsed": true,
    "execution": {
     "iopub.execute_input": "2021-04-19T17:21:38.702735Z",
     "iopub.status.busy": "2021-04-19T17:21:38.701981Z",
     "iopub.status.idle": "2021-04-19T17:21:38.705713Z",
     "shell.execute_reply": "2021-04-19T17:21:38.705049Z"
    },
    "jupyter": {
     "outputs_hidden": true
    },
    "papermill": {
     "duration": 0.031202,
     "end_time": "2021-04-19T17:21:38.705949",
     "exception": false,
     "start_time": "2021-04-19T17:21:38.674747",
     "status": "completed"
    },
    "tags": []
   },
   "outputs": [],
   "source": [
    "# step_4.hint()\n",
    "# step_4.solution()"
   ]
  },
  {
   "cell_type": "markdown",
   "id": "ecological-olive",
   "metadata": {
    "papermill": {
     "duration": 0.022946,
     "end_time": "2021-04-19T17:21:38.751669",
     "exception": false,
     "start_time": "2021-04-19T17:21:38.728723",
     "status": "completed"
    },
    "tags": []
   },
   "source": [
    "## Think About Your Results\n",
    "\n",
    "Use the `head` method to compare the top few predictions to the actual home values (in `y`) for those same homes. Anything surprising?\n"
   ]
  },
  {
   "cell_type": "code",
   "execution_count": 12,
   "id": "medium-kentucky",
   "metadata": {
    "execution": {
     "iopub.execute_input": "2021-04-19T17:21:38.816211Z",
     "iopub.status.busy": "2021-04-19T17:21:38.815137Z",
     "iopub.status.idle": "2021-04-19T17:21:38.819793Z",
     "shell.execute_reply": "2021-04-19T17:21:38.819103Z"
    },
    "papermill": {
     "duration": 0.045382,
     "end_time": "2021-04-19T17:21:38.819953",
     "exception": false,
     "start_time": "2021-04-19T17:21:38.774571",
     "status": "completed"
    },
    "tags": []
   },
   "outputs": [
    {
     "name": "stdout",
     "output_type": "stream",
     "text": [
      "   Id  MSSubClass MSZoning  LotFrontage  LotArea Street Alley LotShape  \\\n",
      "0   1          60       RL         65.0     8450   Pave   NaN      Reg   \n",
      "1   2          20       RL         80.0     9600   Pave   NaN      Reg   \n",
      "2   3          60       RL         68.0    11250   Pave   NaN      IR1   \n",
      "3   4          70       RL         60.0     9550   Pave   NaN      IR1   \n",
      "4   5          60       RL         84.0    14260   Pave   NaN      IR1   \n",
      "\n",
      "  LandContour Utilities  ... PoolArea PoolQC Fence MiscFeature MiscVal MoSold  \\\n",
      "0         Lvl    AllPub  ...        0    NaN   NaN         NaN       0      2   \n",
      "1         Lvl    AllPub  ...        0    NaN   NaN         NaN       0      5   \n",
      "2         Lvl    AllPub  ...        0    NaN   NaN         NaN       0      9   \n",
      "3         Lvl    AllPub  ...        0    NaN   NaN         NaN       0      2   \n",
      "4         Lvl    AllPub  ...        0    NaN   NaN         NaN       0     12   \n",
      "\n",
      "  YrSold  SaleType  SaleCondition  SalePrice  \n",
      "0   2008        WD         Normal     208500  \n",
      "1   2007        WD         Normal     181500  \n",
      "2   2008        WD         Normal     223500  \n",
      "3   2006        WD        Abnorml     140000  \n",
      "4   2008        WD         Normal     250000  \n",
      "\n",
      "[5 rows x 81 columns]\n",
      "[208500. 181500. 223500. ... 266500. 142125. 147500.]\n"
     ]
    }
   ],
   "source": [
    "# You can write code in this cell\n",
    "print(home_data.head())\n",
    "print(predictions)"
   ]
  },
  {
   "cell_type": "markdown",
   "id": "altered-communications",
   "metadata": {
    "papermill": {
     "duration": 0.02275,
     "end_time": "2021-04-19T17:21:38.865564",
     "exception": false,
     "start_time": "2021-04-19T17:21:38.842814",
     "status": "completed"
    },
    "tags": []
   },
   "source": [
    "It's natural to ask how accurate the model's predictions will be and how you can improve that. That will be you're next step.\n",
    "\n",
    "# Keep Going\n",
    "\n",
    "You are ready for **[Model Validation](https://www.kaggle.com/dansbecker/model-validation).**\n"
   ]
  },
  {
   "cell_type": "markdown",
   "id": "conventional-monkey",
   "metadata": {
    "papermill": {
     "duration": 0.024092,
     "end_time": "2021-04-19T17:21:38.913491",
     "exception": false,
     "start_time": "2021-04-19T17:21:38.889399",
     "status": "completed"
    },
    "tags": []
   },
   "source": [
    "---\n",
    "\n",
    "\n",
    "\n",
    "\n",
    "*Have questions or comments? Visit the [Learn Discussion forum](https://www.kaggle.com/learn-forum/161285) to chat with other Learners.*"
   ]
  }
 ],
 "metadata": {
  "kernelspec": {
   "display_name": "Python 3",
   "language": "python",
   "name": "python3"
  },
  "language_info": {
   "codemirror_mode": {
    "name": "ipython",
    "version": 3
   },
   "file_extension": ".py",
   "mimetype": "text/x-python",
   "name": "python",
   "nbconvert_exporter": "python",
   "pygments_lexer": "ipython3",
   "version": "3.7.9"
  },
  "papermill": {
   "default_parameters": {},
   "duration": 10.976707,
   "end_time": "2021-04-19T17:21:39.649571",
   "environment_variables": {},
   "exception": null,
   "input_path": "__notebook__.ipynb",
   "output_path": "__notebook__.ipynb",
   "parameters": {},
   "start_time": "2021-04-19T17:21:28.672864",
   "version": "2.3.2"
  }
 },
 "nbformat": 4,
 "nbformat_minor": 5
}
