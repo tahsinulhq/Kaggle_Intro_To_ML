{
 "cells": [
  {
   "cell_type": "markdown",
   "id": "suspected-charity",
   "metadata": {
    "papermill": {
     "duration": 0.015145,
     "end_time": "2021-04-08T10:33:42.587425",
     "exception": false,
     "start_time": "2021-04-08T10:33:42.572280",
     "status": "completed"
    },
    "tags": []
   },
   "source": [
    "**This notebook is an exercise in the [Python](https://www.kaggle.com/learn/python) course.  You can reference the tutorial at [this link](https://www.kaggle.com/colinmorris/lists).**\n",
    "\n",
    "---\n"
   ]
  },
  {
   "cell_type": "markdown",
   "id": "brilliant-moisture",
   "metadata": {
    "papermill": {
     "duration": 0.013036,
     "end_time": "2021-04-08T10:33:42.614061",
     "exception": false,
     "start_time": "2021-04-08T10:33:42.601025",
     "status": "completed"
    },
    "tags": []
   },
   "source": [
    "# Try It Yourself\n",
    "\n",
    "Things get more interesting with lists. See if you can solve the questions below. Remember to run the following cell first."
   ]
  },
  {
   "cell_type": "code",
   "execution_count": 1,
   "id": "structural-trick",
   "metadata": {
    "execution": {
     "iopub.execute_input": "2021-04-08T10:33:42.646775Z",
     "iopub.status.busy": "2021-04-08T10:33:42.645017Z",
     "iopub.status.idle": "2021-04-08T10:33:42.690838Z",
     "shell.execute_reply": "2021-04-08T10:33:42.690185Z"
    },
    "papermill": {
     "duration": 0.063669,
     "end_time": "2021-04-08T10:33:42.691007",
     "exception": false,
     "start_time": "2021-04-08T10:33:42.627338",
     "status": "completed"
    },
    "tags": []
   },
   "outputs": [
    {
     "name": "stdout",
     "output_type": "stream",
     "text": [
      "Setup complete.\n"
     ]
    }
   ],
   "source": [
    "from learntools.core import binder; binder.bind(globals())\n",
    "from learntools.python.ex4 import *\n",
    "print('Setup complete.')"
   ]
  },
  {
   "cell_type": "markdown",
   "id": "proprietary-driving",
   "metadata": {
    "papermill": {
     "duration": 0.013422,
     "end_time": "2021-04-08T10:33:42.718618",
     "exception": false,
     "start_time": "2021-04-08T10:33:42.705196",
     "status": "completed"
    },
    "tags": []
   },
   "source": [
    "# Exercises"
   ]
  },
  {
   "cell_type": "markdown",
   "id": "adult-determination",
   "metadata": {
    "papermill": {
     "duration": 0.013438,
     "end_time": "2021-04-08T10:33:42.745868",
     "exception": false,
     "start_time": "2021-04-08T10:33:42.732430",
     "status": "completed"
    },
    "tags": []
   },
   "source": [
    "## 1.\n",
    "\n",
    "Complete the function below according to its docstring."
   ]
  },
  {
   "cell_type": "code",
   "execution_count": 2,
   "id": "organic-bracelet",
   "metadata": {
    "execution": {
     "iopub.execute_input": "2021-04-08T10:33:42.787162Z",
     "iopub.status.busy": "2021-04-08T10:33:42.786436Z",
     "iopub.status.idle": "2021-04-08T10:33:42.793584Z",
     "shell.execute_reply": "2021-04-08T10:33:42.792963Z"
    },
    "papermill": {
     "duration": 0.034239,
     "end_time": "2021-04-08T10:33:42.793747",
     "exception": false,
     "start_time": "2021-04-08T10:33:42.759508",
     "status": "completed"
    },
    "tags": []
   },
   "outputs": [
    {
     "data": {
      "application/javascript": [
       "parent.postMessage({\"jupyterEvent\": \"custom.exercise_interaction\", \"data\": {\"outcomeType\": 1, \"valueTowardsCompletion\": 0.2, \"interactionType\": 1, \"questionType\": 2, \"questionId\": \"1_SelectSecondItem\", \"learnToolsVersion\": \"0.3.4\", \"failureMessage\": \"\", \"exceptionClass\": \"\", \"trace\": \"\"}}, \"*\")"
      ],
      "text/plain": [
       "<IPython.core.display.Javascript object>"
      ]
     },
     "metadata": {},
     "output_type": "display_data"
    },
    {
     "data": {
      "text/markdown": [
       "<span style=\"color:#33cc33\">Correct</span>"
      ],
      "text/plain": [
       "Correct"
      ]
     },
     "metadata": {},
     "output_type": "display_data"
    }
   ],
   "source": [
    "def select_second(L):\n",
    "    \"\"\"Return the second element of the given list. If the list has no second\n",
    "    element, return None.\n",
    "    \"\"\"\n",
    "    if len(L)>=2:\n",
    "        return L[1]\n",
    "    else:\n",
    "        return None\n",
    "    \n",
    "    \n",
    "    pass\n",
    "\n",
    "# Check your answer\n",
    "q1.check()"
   ]
  },
  {
   "cell_type": "code",
   "execution_count": 3,
   "id": "involved-rings",
   "metadata": {
    "execution": {
     "iopub.execute_input": "2021-04-08T10:33:42.833042Z",
     "iopub.status.busy": "2021-04-08T10:33:42.832132Z",
     "iopub.status.idle": "2021-04-08T10:33:42.841348Z",
     "shell.execute_reply": "2021-04-08T10:33:42.840549Z"
    },
    "papermill": {
     "duration": 0.030798,
     "end_time": "2021-04-08T10:33:42.841583",
     "exception": false,
     "start_time": "2021-04-08T10:33:42.810785",
     "status": "completed"
    },
    "tags": []
   },
   "outputs": [
    {
     "data": {
      "application/javascript": [
       "parent.postMessage({\"jupyterEvent\": \"custom.exercise_interaction\", \"data\": {\"interactionType\": 2, \"questionType\": 2, \"questionId\": \"1_SelectSecondItem\", \"learnToolsVersion\": \"0.3.4\", \"valueTowardsCompletion\": 0.0, \"failureMessage\": \"\", \"exceptionClass\": \"\", \"trace\": \"\", \"outcomeType\": 4}}, \"*\")"
      ],
      "text/plain": [
       "<IPython.core.display.Javascript object>"
      ]
     },
     "metadata": {},
     "output_type": "display_data"
    },
    {
     "data": {
      "text/markdown": [
       "<span style=\"color:#3366cc\">Hint:</span> Python starts counting at 0. So the second item isn't indexed with a 2"
      ],
      "text/plain": [
       "Hint: Python starts counting at 0. So the second item isn't indexed with a 2"
      ]
     },
     "metadata": {},
     "output_type": "display_data"
    },
    {
     "data": {
      "application/javascript": [
       "parent.postMessage({\"jupyterEvent\": \"custom.exercise_interaction\", \"data\": {\"interactionType\": 3, \"questionType\": 2, \"questionId\": \"1_SelectSecondItem\", \"learnToolsVersion\": \"0.3.4\", \"valueTowardsCompletion\": 0.0, \"failureMessage\": \"\", \"exceptionClass\": \"\", \"trace\": \"\", \"outcomeType\": 4}}, \"*\")"
      ],
      "text/plain": [
       "<IPython.core.display.Javascript object>"
      ]
     },
     "metadata": {},
     "output_type": "display_data"
    },
    {
     "data": {
      "text/markdown": [
       "<span style=\"color:#33cc99\">Solution:</span> \n",
       "```python\n",
       "def select_second(L):\n",
       "    if len(L) < 2:\n",
       "        return None\n",
       "    return L[1]\n",
       "```"
      ],
      "text/plain": [
       "Solution: \n",
       "```python\n",
       "def select_second(L):\n",
       "    if len(L) < 2:\n",
       "        return None\n",
       "    return L[1]\n",
       "```"
      ]
     },
     "metadata": {},
     "output_type": "display_data"
    }
   ],
   "source": [
    "q1.hint()\n",
    "q1.solution()"
   ]
  },
  {
   "cell_type": "markdown",
   "id": "corresponding-worse",
   "metadata": {
    "papermill": {
     "duration": 0.017248,
     "end_time": "2021-04-08T10:33:42.876126",
     "exception": false,
     "start_time": "2021-04-08T10:33:42.858878",
     "status": "completed"
    },
    "tags": []
   },
   "source": [
    "## 2.\n",
    "\n",
    "You are analyzing sports teams.  Members of each team are stored in a list. The Coach is the first name in the list, the captain is the second name in the list, and other players are listed after that. \n",
    "These lists are stored in another list, which starts with the best team and proceeds through the list to the worst team last.  Complete the function below to select the **captain** of the worst team."
   ]
  },
  {
   "cell_type": "code",
   "execution_count": 4,
   "id": "selective-coffee",
   "metadata": {
    "execution": {
     "iopub.execute_input": "2021-04-08T10:33:42.918257Z",
     "iopub.status.busy": "2021-04-08T10:33:42.917531Z",
     "iopub.status.idle": "2021-04-08T10:33:42.922895Z",
     "shell.execute_reply": "2021-04-08T10:33:42.922361Z"
    },
    "papermill": {
     "duration": 0.028236,
     "end_time": "2021-04-08T10:33:42.923032",
     "exception": false,
     "start_time": "2021-04-08T10:33:42.894796",
     "status": "completed"
    },
    "tags": []
   },
   "outputs": [
    {
     "data": {
      "application/javascript": [
       "parent.postMessage({\"jupyterEvent\": \"custom.exercise_interaction\", \"data\": {\"outcomeType\": 1, \"valueTowardsCompletion\": 0.2, \"interactionType\": 1, \"questionType\": 2, \"questionId\": \"2_LosingTeamCaptain\", \"learnToolsVersion\": \"0.3.4\", \"failureMessage\": \"\", \"exceptionClass\": \"\", \"trace\": \"\"}}, \"*\")"
      ],
      "text/plain": [
       "<IPython.core.display.Javascript object>"
      ]
     },
     "metadata": {},
     "output_type": "display_data"
    },
    {
     "data": {
      "text/markdown": [
       "<span style=\"color:#33cc33\">Correct</span>"
      ],
      "text/plain": [
       "Correct"
      ]
     },
     "metadata": {},
     "output_type": "display_data"
    }
   ],
   "source": [
    "def losing_team_captain(teams):\n",
    "    \"\"\"Given a list of teams, where each team is a list of names, return the 2nd player (captain)\n",
    "    from the last listed team\n",
    "    \"\"\"\n",
    "    return teams[-1][1]\n",
    "    \n",
    "\n",
    "# Check your answer\n",
    "q2.check()"
   ]
  },
  {
   "cell_type": "code",
   "execution_count": 5,
   "id": "stupid-brook",
   "metadata": {
    "execution": {
     "iopub.execute_input": "2021-04-08T10:33:42.963805Z",
     "iopub.status.busy": "2021-04-08T10:33:42.963078Z",
     "iopub.status.idle": "2021-04-08T10:33:42.968668Z",
     "shell.execute_reply": "2021-04-08T10:33:42.969141Z"
    },
    "papermill": {
     "duration": 0.0283,
     "end_time": "2021-04-08T10:33:42.969312",
     "exception": false,
     "start_time": "2021-04-08T10:33:42.941012",
     "status": "completed"
    },
    "tags": []
   },
   "outputs": [
    {
     "data": {
      "application/javascript": [
       "parent.postMessage({\"jupyterEvent\": \"custom.exercise_interaction\", \"data\": {\"interactionType\": 2, \"questionType\": 2, \"questionId\": \"2_LosingTeamCaptain\", \"learnToolsVersion\": \"0.3.4\", \"valueTowardsCompletion\": 0.0, \"failureMessage\": \"\", \"exceptionClass\": \"\", \"trace\": \"\", \"outcomeType\": 4}}, \"*\")"
      ],
      "text/plain": [
       "<IPython.core.display.Javascript object>"
      ]
     },
     "metadata": {},
     "output_type": "display_data"
    },
    {
     "data": {
      "text/markdown": [
       "<span style=\"color:#3366cc\">Hint:</span> The last item in a list `L` can be selected with `L[-1]`. The first item in the first sublist would be selected as `L[0][0]`"
      ],
      "text/plain": [
       "Hint: The last item in a list `L` can be selected with `L[-1]`. The first item in the first sublist would be selected as `L[0][0]`"
      ]
     },
     "metadata": {},
     "output_type": "display_data"
    }
   ],
   "source": [
    "q2.hint()\n",
    "#q2.solution()"
   ]
  },
  {
   "cell_type": "markdown",
   "id": "hungry-killing",
   "metadata": {
    "papermill": {
     "duration": 0.01918,
     "end_time": "2021-04-08T10:33:43.008829",
     "exception": false,
     "start_time": "2021-04-08T10:33:42.989649",
     "status": "completed"
    },
    "tags": []
   },
   "source": [
    "## 3.\n",
    "\n",
    "The next iteration of Mario Kart will feature an extra-infuriating new item, the *Purple Shell*. When used, it warps the last place racer into first place and the first place racer into last place. Complete the function below to implement the Purple Shell's effect."
   ]
  },
  {
   "cell_type": "code",
   "execution_count": 6,
   "id": "extensive-zealand",
   "metadata": {
    "execution": {
     "iopub.execute_input": "2021-04-08T10:33:43.053500Z",
     "iopub.status.busy": "2021-04-08T10:33:43.052804Z",
     "iopub.status.idle": "2021-04-08T10:33:43.056599Z",
     "shell.execute_reply": "2021-04-08T10:33:43.057123Z"
    },
    "papermill": {
     "duration": 0.029228,
     "end_time": "2021-04-08T10:33:43.057306",
     "exception": false,
     "start_time": "2021-04-08T10:33:43.028078",
     "status": "completed"
    },
    "tags": []
   },
   "outputs": [
    {
     "data": {
      "application/javascript": [
       "parent.postMessage({\"jupyterEvent\": \"custom.exercise_interaction\", \"data\": {\"outcomeType\": 4, \"interactionType\": 1, \"questionType\": 2, \"questionId\": \"3_PurpleShell\", \"learnToolsVersion\": \"0.3.4\", \"valueTowardsCompletion\": 0.0, \"failureMessage\": \"\", \"exceptionClass\": \"\", \"trace\": \"\"}}, \"*\")"
      ],
      "text/plain": [
       "<IPython.core.display.Javascript object>"
      ]
     },
     "metadata": {},
     "output_type": "display_data"
    },
    {
     "data": {
      "text/markdown": [
       "<span style=\"color:#ccaa33\">Check:</span> When you've updated the starter code, `check()` will tell you whether your code is correct. "
      ],
      "text/plain": [
       "Check: When you've updated the starter code, `check()` will tell you whether your code is correct. "
      ]
     },
     "metadata": {},
     "output_type": "display_data"
    }
   ],
   "source": [
    "def purple_shell(racers):\n",
    "    \"\"\"Given a list of racers, set the first place racer (at the front of the list) to last\n",
    "    place and vice versa.\n",
    "    \n",
    "    >>> r = [\"Mario\", \"Bowser\", \"Luigi\"]\n",
    "    >>> purple_shell(r)\n",
    "    >>> r\n",
    "    [\"Luigi\", \"Bowser\", \"Mario\"]\n",
    "    \"\"\"\n",
    "    pass\n",
    "\n",
    "# Check your answer\n",
    "q3.check()"
   ]
  },
  {
   "cell_type": "code",
   "execution_count": 7,
   "id": "owned-pharmacy",
   "metadata": {
    "collapsed": true,
    "execution": {
     "iopub.execute_input": "2021-04-08T10:33:43.101492Z",
     "iopub.status.busy": "2021-04-08T10:33:43.100854Z",
     "iopub.status.idle": "2021-04-08T10:33:43.103649Z",
     "shell.execute_reply": "2021-04-08T10:33:43.104141Z"
    },
    "jupyter": {
     "outputs_hidden": true
    },
    "papermill": {
     "duration": 0.026428,
     "end_time": "2021-04-08T10:33:43.104338",
     "exception": false,
     "start_time": "2021-04-08T10:33:43.077910",
     "status": "completed"
    },
    "tags": []
   },
   "outputs": [],
   "source": [
    "#q3.hint()\n",
    "#q3.solution()"
   ]
  },
  {
   "cell_type": "markdown",
   "id": "contemporary-manitoba",
   "metadata": {
    "papermill": {
     "duration": 0.020053,
     "end_time": "2021-04-08T10:33:43.144989",
     "exception": false,
     "start_time": "2021-04-08T10:33:43.124936",
     "status": "completed"
    },
    "tags": []
   },
   "source": [
    "## 4.\n",
    "\n",
    "What are the lengths of the following lists? Fill in the variable `lengths` with your predictions. (Try to make a prediction for each list *without* just calling `len()` on it.)"
   ]
  },
  {
   "cell_type": "code",
   "execution_count": 8,
   "id": "corporate-canal",
   "metadata": {
    "execution": {
     "iopub.execute_input": "2021-04-08T10:33:43.192589Z",
     "iopub.status.busy": "2021-04-08T10:33:43.191765Z",
     "iopub.status.idle": "2021-04-08T10:33:43.197603Z",
     "shell.execute_reply": "2021-04-08T10:33:43.198126Z"
    },
    "papermill": {
     "duration": 0.033044,
     "end_time": "2021-04-08T10:33:43.198302",
     "exception": false,
     "start_time": "2021-04-08T10:33:43.165258",
     "status": "completed"
    },
    "tags": []
   },
   "outputs": [
    {
     "data": {
      "application/javascript": [
       "parent.postMessage({\"jupyterEvent\": \"custom.exercise_interaction\", \"data\": {\"outcomeType\": 4, \"interactionType\": 1, \"questionType\": 1, \"questionId\": \"4_UnderstandLen\", \"learnToolsVersion\": \"0.3.4\", \"valueTowardsCompletion\": 0.0, \"failureMessage\": \"\", \"exceptionClass\": \"\", \"trace\": \"\"}}, \"*\")"
      ],
      "text/plain": [
       "<IPython.core.display.Javascript object>"
      ]
     },
     "metadata": {},
     "output_type": "display_data"
    },
    {
     "data": {
      "text/markdown": [
       "<span style=\"color:#ccaa33\">Check:</span> When you've updated the starter code, `check()` will tell you whether your code is correct. You need to update the code that creates variable `lengths`"
      ],
      "text/plain": [
       "Check: When you've updated the starter code, `check()` will tell you whether your code is correct. You need to update the code that creates variable `lengths`"
      ]
     },
     "metadata": {},
     "output_type": "display_data"
    }
   ],
   "source": [
    "a = [1, 2, 3]\n",
    "b = [1, [2, 3]]\n",
    "c = []\n",
    "d = [1, 2, 3][1:]\n",
    "\n",
    "# Put your predictions in the list below. Lengths should contain 4 numbers, the\n",
    "# first being the length of a, the second being the length of b and so on.\n",
    "lengths = []\n",
    "\n",
    "# Check your answer\n",
    "q4.check()"
   ]
  },
  {
   "cell_type": "code",
   "execution_count": 9,
   "id": "indian-extraction",
   "metadata": {
    "collapsed": true,
    "execution": {
     "iopub.execute_input": "2021-04-08T10:33:43.246130Z",
     "iopub.status.busy": "2021-04-08T10:33:43.245458Z",
     "iopub.status.idle": "2021-04-08T10:33:43.248088Z",
     "shell.execute_reply": "2021-04-08T10:33:43.248567Z"
    },
    "jupyter": {
     "outputs_hidden": true
    },
    "papermill": {
     "duration": 0.028758,
     "end_time": "2021-04-08T10:33:43.248766",
     "exception": false,
     "start_time": "2021-04-08T10:33:43.220008",
     "status": "completed"
    },
    "tags": []
   },
   "outputs": [],
   "source": [
    "# line below provides some explanation\n",
    "#q4.solution()"
   ]
  },
  {
   "cell_type": "markdown",
   "id": "unexpected-feedback",
   "metadata": {
    "papermill": {
     "duration": 0.021331,
     "end_time": "2021-04-08T10:33:43.292204",
     "exception": false,
     "start_time": "2021-04-08T10:33:43.270873",
     "status": "completed"
    },
    "tags": []
   },
   "source": [
    "## 5. <span title=\"A bit spicy\" style=\"color: darkgreen \">🌶️</span>\n",
    "\n",
    "We're using lists to record people who attended our party and what order they arrived in. For example, the following list represents a party with 7 guests, in which Adela showed up first and Ford was the last to arrive:\n",
    "\n",
    "    party_attendees = ['Adela', 'Fleda', 'Owen', 'May', 'Mona', 'Gilbert', 'Ford']\n",
    "\n",
    "A guest is considered 'fashionably late' if they arrived after at least half of the party's guests. However, they must not be the very last guest (that's taking it too far). In the above example, Mona and Gilbert are the only guests who were fashionably late.\n",
    "\n",
    "Complete the function below which takes a list of party attendees as well as a person, and tells us whether that person is fashionably late."
   ]
  },
  {
   "cell_type": "code",
   "execution_count": 10,
   "id": "imported-merchandise",
   "metadata": {
    "execution": {
     "iopub.execute_input": "2021-04-08T10:33:43.339228Z",
     "iopub.status.busy": "2021-04-08T10:33:43.338520Z",
     "iopub.status.idle": "2021-04-08T10:33:43.345042Z",
     "shell.execute_reply": "2021-04-08T10:33:43.345556Z"
    },
    "papermill": {
     "duration": 0.031765,
     "end_time": "2021-04-08T10:33:43.345771",
     "exception": false,
     "start_time": "2021-04-08T10:33:43.314006",
     "status": "completed"
    },
    "tags": []
   },
   "outputs": [
    {
     "data": {
      "application/javascript": [
       "parent.postMessage({\"jupyterEvent\": \"custom.exercise_interaction\", \"data\": {\"outcomeType\": 4, \"interactionType\": 1, \"questionType\": 2, \"questionId\": \"5_FashionablyLate\", \"learnToolsVersion\": \"0.3.4\", \"valueTowardsCompletion\": 0.0, \"failureMessage\": \"\", \"exceptionClass\": \"\", \"trace\": \"\"}}, \"*\")"
      ],
      "text/plain": [
       "<IPython.core.display.Javascript object>"
      ]
     },
     "metadata": {},
     "output_type": "display_data"
    },
    {
     "data": {
      "text/markdown": [
       "<span style=\"color:#ccaa33\">Check:</span> When you've updated the starter code, `check()` will tell you whether your code is correct. "
      ],
      "text/plain": [
       "Check: When you've updated the starter code, `check()` will tell you whether your code is correct. "
      ]
     },
     "metadata": {},
     "output_type": "display_data"
    }
   ],
   "source": [
    "def fashionably_late(arrivals, name):\n",
    "    \"\"\"Given an ordered list of arrivals to the party and a name, return whether the guest with that\n",
    "    name was fashionably late.\n",
    "    \"\"\"\n",
    "    pass\n",
    "\n",
    "# Check your answer\n",
    "q5.check()"
   ]
  },
  {
   "cell_type": "code",
   "execution_count": 11,
   "id": "favorite-catholic",
   "metadata": {
    "collapsed": true,
    "execution": {
     "iopub.execute_input": "2021-04-08T10:33:43.397256Z",
     "iopub.status.busy": "2021-04-08T10:33:43.396266Z",
     "iopub.status.idle": "2021-04-08T10:33:43.399352Z",
     "shell.execute_reply": "2021-04-08T10:33:43.398817Z"
    },
    "jupyter": {
     "outputs_hidden": true
    },
    "papermill": {
     "duration": 0.030106,
     "end_time": "2021-04-08T10:33:43.399491",
     "exception": false,
     "start_time": "2021-04-08T10:33:43.369385",
     "status": "completed"
    },
    "tags": []
   },
   "outputs": [],
   "source": [
    "#q5.hint()\n",
    "#q5.solution()"
   ]
  },
  {
   "cell_type": "markdown",
   "id": "duplicate-buyer",
   "metadata": {
    "papermill": {
     "duration": 0.023971,
     "end_time": "2021-04-08T10:33:43.446512",
     "exception": false,
     "start_time": "2021-04-08T10:33:43.422541",
     "status": "completed"
    },
    "tags": []
   },
   "source": [
    "# Keep Going\n",
    "\n",
    "That's it for lists and tuples! Now you have the baseline knowledge to **[learn about loops](https://www.kaggle.com/colinmorris/loops-and-list-comprehensions)**, which is where lists and tuples get really interesting. "
   ]
  },
  {
   "cell_type": "markdown",
   "id": "black-software",
   "metadata": {
    "papermill": {
     "duration": 0.022734,
     "end_time": "2021-04-08T10:33:43.492507",
     "exception": false,
     "start_time": "2021-04-08T10:33:43.469773",
     "status": "completed"
    },
    "tags": []
   },
   "source": [
    "---\n",
    "\n",
    "\n",
    "\n",
    "\n",
    "*Have questions or comments? Visit the [Learn Discussion forum](https://www.kaggle.com/learn-forum/161283) to chat with other Learners.*"
   ]
  }
 ],
 "metadata": {
  "kernelspec": {
   "display_name": "Python 3",
   "language": "python",
   "name": "python3"
  },
  "language_info": {
   "codemirror_mode": {
    "name": "ipython",
    "version": 3
   },
   "file_extension": ".py",
   "mimetype": "text/x-python",
   "name": "python",
   "nbconvert_exporter": "python",
   "pygments_lexer": "ipython3",
   "version": "3.7.9"
  },
  "papermill": {
   "default_parameters": {},
   "duration": 8.091206,
   "end_time": "2021-04-08T10:33:44.125033",
   "environment_variables": {},
   "exception": null,
   "input_path": "__notebook__.ipynb",
   "output_path": "__notebook__.ipynb",
   "parameters": {},
   "start_time": "2021-04-08T10:33:36.033827",
   "version": "2.3.2"
  }
 },
 "nbformat": 4,
 "nbformat_minor": 5
}
